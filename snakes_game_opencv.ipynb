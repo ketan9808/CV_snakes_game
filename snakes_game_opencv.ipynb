{
 "cells": [
  {
   "cell_type": "code",
   "execution_count": null,
   "metadata": {},
   "outputs": [],
   "source": [
    "import cv2\n",
    "import numpy as np\n",
    "import random as r"
   ]
  },
  {
   "cell_type": "code",
   "execution_count": null,
   "metadata": {},
   "outputs": [],
   "source": [
    "def new_game(border = [127,0,0]):\n",
    "    i = np.zeros((500,500,3))\n",
    "    for j in border:\n",
    "        i[:,:10,border.index(j)] = j\n",
    "        i[:,-10:,border.index(j)] = j\n",
    "        i[:10,:,border.index(j)] = j\n",
    "        i[-10:,:,border.index(j)] = j\n",
    "    return i"
   ]
  },
  {
   "cell_type": "code",
   "execution_count": null,
   "metadata": {},
   "outputs": [],
   "source": [
    "def random_pos():\n",
    "    p = r.randrange(10,480,10)\n",
    "    q = r.randrange(10,480,10)\n",
    "    return p,q"
   ]
  },
  {
   "cell_type": "code",
   "execution_count": 4,
   "metadata": {},
   "outputs": [
    {
     "name": "stdout",
     "output_type": "stream",
     "text": [
      "game over!!!\n"
     ]
    }
   ],
   "source": [
    "i = new_game() # Initiating the game\n",
    "x,y = random_pos() # snake's random position\n",
    "p,q = random_pos() # food's random position\n",
    "\n",
    "while(1):\n",
    "    i[x:x+10,y:y+10,:] = 255 # snake\n",
    "    i[p:p+10,q:q+10,2] = 127 # food\n",
    "    \n",
    "    cv2.imshow(\"zeros\",i)\n",
    "    k = cv2.waitKey(0) # waiting for user input\n",
    "    i[x:x+10,y:y+10,:] = 0 # previous snake position vanished\n",
    "    if k == 119: # w\n",
    "        x = x-10\n",
    "    elif k == 115: # s\n",
    "        x = x+10\n",
    "    elif k == 97: # a\n",
    "        y = y-10\n",
    "    elif k == 100: # d\n",
    "        y = y+10\n",
    "    elif k == 27: # esc\n",
    "        cv2.destroyAllWindows()\n",
    "        break\n",
    "        \n",
    "    if x<=0 or x>=490 or y<=0 or y>=490: # if snake goes out of boudary game over\n",
    "        print(\"game over!!!\")\n",
    "        cv2.destroyAllWindows()\n",
    "        i = new_game()\n",
    "        break\n",
    "        \n",
    "    if x==p and y==q: # if snake eats food, a new food is generated\n",
    "        p,q = random_pos()"
   ]
  }
 ],
 "metadata": {
  "kernelspec": {
   "display_name": "Python 3",
   "language": "python3",
   "name": "python3"
  },
  "language_info": {
   "codemirror_mode": {
    "name": "ipython",
    "version": 3
   },
   "file_extension": ".py",
   "mimetype": "text/x-python",
   "name": "python",
   "nbconvert_exporter": "python",
   "pygments_lexer": "ipython3",
   "version": "3.6.8"
  }
 },
 "nbformat": 4,
 "nbformat_minor": 2
}
